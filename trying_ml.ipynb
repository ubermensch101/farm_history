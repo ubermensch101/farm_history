{
 "cells": [
  {
   "cell_type": "code",
   "execution_count": 52,
   "metadata": {},
   "outputs": [],
   "source": [
    "import copy\n",
    "import json\n",
    "import math\n",
    "import os\n",
    "import pathlib\n",
    "import time\n",
    "import psycopg2\n",
    "import requests\n",
    "from requests.adapters import HTTPAdapter\n",
    "from requests.auth import HTTPBasicAuth\n",
    "from urllib3.util.retry import Retry\n",
    "\n",
    "import numpy as np\n",
    "import pandas as pd\n",
    "import matplotlib.pyplot as plt\n",
    "import matplotlib.patches as patches\n",
    "import rasterio\n",
    "from shapely.wkt import loads\n",
    "from rasterio.mask import mask\n",
    "import cv2\n",
    "\n",
    "from sklearn.model_selection import train_test_split\n",
    "from sklearn.linear_model import LogisticRegression\n",
    "from sklearn.metrics import classification_report, confusion_matrix\n",
    "\n",
    "class PGConn:\n",
    "    def __init__(self, host, port, dbname, user=None, passwd=None):\n",
    "        self.host = host\n",
    "        self.port = port\n",
    "        self.dbname = dbname\n",
    "        if user is not None:\n",
    "            self.user = user\n",
    "        else:\n",
    "            self.user = \"\"\n",
    "        if passwd is not None:\n",
    "            self.passwd = passwd\n",
    "        else:\n",
    "            self.passwd = \"\"\n",
    "        self.conn = None\n",
    "\n",
    "    def connection(self):\n",
    "        \"\"\"Return connection to PostgreSQL.  It does not need to be closed\n",
    "        explicitly.  See the destructor definition below.\n",
    "\n",
    "        \"\"\"\n",
    "        if self.conn is None:\n",
    "            conn = psycopg2.connect(dbname=self.dbname,\n",
    "                                    host=self.host,\n",
    "                                    port=str(self.port),\n",
    "                                    user=self.user,\n",
    "                                    password=self.passwd)\n",
    "            self.conn = conn\n",
    "            \n",
    "        return self.conn\n",
    "\n",
    "pgconn_obj = PGConn(\n",
    "    \"localhost\",\n",
    "    5432,\n",
    "    \"dolr\",\n",
    "    \"sameer\",\n",
    "    \"swimgood\"\n",
    ")\n",
    "    \n",
    "pgconn=pgconn_obj.connection()"
   ]
  },
  {
   "cell_type": "code",
   "execution_count": 53,
   "metadata": {},
   "outputs": [
    {
     "name": "stdout",
     "output_type": "stream",
     "text": [
      "[(0, Decimal('48.686974789915965'), Decimal('44.918067226890756'), Decimal('29.873949579831933'), Decimal('185.35714285714286')), (0, Decimal('48.686974789915965'), Decimal('44.918067226890756'), Decimal('29.873949579831933'), Decimal('185.35714285714286')), (0, Decimal('48.686974789915965'), Decimal('44.918067226890756'), Decimal('29.873949579831933'), Decimal('185.35714285714286')), (0, Decimal('48.686974789915965'), Decimal('44.918067226890756'), Decimal('29.873949579831933'), Decimal('185.35714285714286')), (0, Decimal('48.686974789915965'), Decimal('44.918067226890756'), Decimal('29.873949579831933'), Decimal('185.35714285714286')), (0, Decimal('48.686974789915965'), Decimal('44.918067226890756'), Decimal('29.873949579831933'), Decimal('185.35714285714286')), (1, Decimal('48.686974789915965'), Decimal('44.918067226890756'), Decimal('29.873949579831933'), Decimal('185.35714285714286')), (1, Decimal('48.686974789915965'), Decimal('44.918067226890756'), Decimal('29.873949579831933'), Decimal('185.35714285714286')), (1, Decimal('48.686974789915965'), Decimal('44.918067226890756'), Decimal('29.873949579831933'), Decimal('185.35714285714286')), (1, Decimal('48.686974789915965'), Decimal('44.918067226890756'), Decimal('29.873949579831933'), Decimal('185.35714285714286')), (1, Decimal('48.686974789915965'), Decimal('44.918067226890756'), Decimal('29.873949579831933'), Decimal('185.35714285714286')), (1, Decimal('48.686974789915965'), Decimal('44.918067226890756'), Decimal('29.873949579831933'), Decimal('185.35714285714286')), (1, Decimal('32.91'), Decimal('35.715'), Decimal('17.871666666666666'), Decimal('187.0')), (1, Decimal('32.91'), Decimal('35.715'), Decimal('17.871666666666666'), Decimal('187.0')), (0, Decimal('32.91'), Decimal('35.715'), Decimal('17.871666666666666'), Decimal('187.0')), (0, Decimal('32.91'), Decimal('35.715'), Decimal('17.871666666666666'), Decimal('187.0')), (0, Decimal('32.91'), Decimal('35.715'), Decimal('17.871666666666666'), Decimal('187.0')), (0, Decimal('32.91'), Decimal('35.715'), Decimal('17.871666666666666'), Decimal('187.0')), (0, Decimal('32.91'), Decimal('35.715'), Decimal('17.871666666666666'), Decimal('187.0')), (1, Decimal('32.91'), Decimal('35.715'), Decimal('17.871666666666666'), Decimal('187.0')), (1, Decimal('32.91'), Decimal('35.715'), Decimal('17.871666666666666'), Decimal('187.0')), (1, Decimal('32.91'), Decimal('35.715'), Decimal('17.871666666666666'), Decimal('187.0')), (1, Decimal('32.91'), Decimal('35.715'), Decimal('17.871666666666666'), Decimal('187.0')), (1, Decimal('32.91'), Decimal('35.715'), Decimal('17.871666666666666'), Decimal('187.0')), (1, Decimal('27.78409090909091'), Decimal('28.608522727272728'), Decimal('14.60909090909091'), Decimal('139.96022727272728')), (0, Decimal('27.78409090909091'), Decimal('28.608522727272728'), Decimal('14.60909090909091'), Decimal('139.96022727272728')), (0, Decimal('27.78409090909091'), Decimal('28.608522727272728'), Decimal('14.60909090909091'), Decimal('139.96022727272728')), (0, Decimal('27.78409090909091'), Decimal('28.608522727272728'), Decimal('14.60909090909091'), Decimal('139.96022727272728')), (0, Decimal('27.78409090909091'), Decimal('28.608522727272728'), Decimal('14.60909090909091'), Decimal('139.96022727272728')), (0, Decimal('27.78409090909091'), Decimal('28.608522727272728'), Decimal('14.60909090909091'), Decimal('139.96022727272728')), (0, Decimal('27.78409090909091'), Decimal('28.608522727272728'), Decimal('14.60909090909091'), Decimal('139.96022727272728')), (1, Decimal('27.78409090909091'), Decimal('28.608522727272728'), Decimal('14.60909090909091'), Decimal('139.96022727272728')), (1, Decimal('27.78409090909091'), Decimal('28.608522727272728'), Decimal('14.60909090909091'), Decimal('139.96022727272728')), (1, Decimal('27.78409090909091'), Decimal('28.608522727272728'), Decimal('14.60909090909091'), Decimal('139.96022727272728')), (1, Decimal('27.78409090909091'), Decimal('28.608522727272728'), Decimal('14.60909090909091'), Decimal('139.96022727272728')), (1, Decimal('27.78409090909091'), Decimal('28.608522727272728'), Decimal('14.60909090909091'), Decimal('139.96022727272728')), (1, Decimal('34.84571428571429'), Decimal('34.10285714285714'), Decimal('17.575238095238095'), Decimal('200.6')), (0, Decimal('34.84571428571429'), Decimal('34.10285714285714'), Decimal('17.575238095238095'), Decimal('200.6')), (0, Decimal('34.84571428571429'), Decimal('34.10285714285714'), Decimal('17.575238095238095'), Decimal('200.6')), (0, Decimal('34.84571428571429'), Decimal('34.10285714285714'), Decimal('17.575238095238095'), Decimal('200.6')), (0, Decimal('34.84571428571429'), Decimal('34.10285714285714'), Decimal('17.575238095238095'), Decimal('200.6')), (0, Decimal('34.84571428571429'), Decimal('34.10285714285714'), Decimal('17.575238095238095'), Decimal('200.6')), (0, Decimal('34.84571428571429'), Decimal('34.10285714285714'), Decimal('17.575238095238095'), Decimal('200.6')), (1, Decimal('34.84571428571429'), Decimal('34.10285714285714'), Decimal('17.575238095238095'), Decimal('200.6')), (1, Decimal('34.84571428571429'), Decimal('34.10285714285714'), Decimal('17.575238095238095'), Decimal('200.6')), (1, Decimal('34.84571428571429'), Decimal('34.10285714285714'), Decimal('17.575238095238095'), Decimal('200.6')), (1, Decimal('34.84571428571429'), Decimal('34.10285714285714'), Decimal('17.575238095238095'), Decimal('200.6')), (1, Decimal('34.84571428571429'), Decimal('34.10285714285714'), Decimal('17.575238095238095'), Decimal('200.6')), (0, Decimal('32.302675585284284'), Decimal('37.424749163879596'), Decimal('19.337792642140467'), Decimal('160.7608695652174')), (0, Decimal('32.302675585284284'), Decimal('37.424749163879596'), Decimal('19.337792642140467'), Decimal('160.7608695652174')), (0, Decimal('32.302675585284284'), Decimal('37.424749163879596'), Decimal('19.337792642140467'), Decimal('160.7608695652174')), (0, Decimal('32.302675585284284'), Decimal('37.424749163879596'), Decimal('19.337792642140467'), Decimal('160.7608695652174')), (0, Decimal('32.302675585284284'), Decimal('37.424749163879596'), Decimal('19.337792642140467'), Decimal('160.7608695652174')), (0, Decimal('32.302675585284284'), Decimal('37.424749163879596'), Decimal('19.337792642140467'), Decimal('160.7608695652174')), (0, Decimal('32.302675585284284'), Decimal('37.424749163879596'), Decimal('19.337792642140467'), Decimal('160.7608695652174')), (1, Decimal('32.302675585284284'), Decimal('37.424749163879596'), Decimal('19.337792642140467'), Decimal('160.7608695652174')), (1, Decimal('32.302675585284284'), Decimal('37.424749163879596'), Decimal('19.337792642140467'), Decimal('160.7608695652174')), (1, Decimal('32.302675585284284'), Decimal('37.424749163879596'), Decimal('19.337792642140467'), Decimal('160.7608695652174')), (1, Decimal('32.302675585284284'), Decimal('37.424749163879596'), Decimal('19.337792642140467'), Decimal('160.7608695652174')), (1, Decimal('32.302675585284284'), Decimal('37.424749163879596'), Decimal('19.337792642140467'), Decimal('160.7608695652174')), (1, Decimal('31.741890959282262'), Decimal('33.0503795721187'), Decimal('16.971014492753625'), Decimal('155.04140786749483')), (0, Decimal('31.741890959282262'), Decimal('33.0503795721187'), Decimal('16.971014492753625'), Decimal('155.04140786749483')), (0, Decimal('31.741890959282262'), Decimal('33.0503795721187'), Decimal('16.971014492753625'), Decimal('155.04140786749483')), (0, Decimal('31.741890959282262'), Decimal('33.0503795721187'), Decimal('16.971014492753625'), Decimal('155.04140786749483')), (0, Decimal('31.741890959282262'), Decimal('33.0503795721187'), Decimal('16.971014492753625'), Decimal('155.04140786749483')), (0, Decimal('31.741890959282262'), Decimal('33.0503795721187'), Decimal('16.971014492753625'), Decimal('155.04140786749483')), (1, Decimal('31.741890959282262'), Decimal('33.0503795721187'), Decimal('16.971014492753625'), Decimal('155.04140786749483')), (1, Decimal('31.741890959282262'), Decimal('33.0503795721187'), Decimal('16.971014492753625'), Decimal('155.04140786749483')), (1, Decimal('31.741890959282262'), Decimal('33.0503795721187'), Decimal('16.971014492753625'), Decimal('155.04140786749483')), (1, Decimal('31.741890959282262'), Decimal('33.0503795721187'), Decimal('16.971014492753625'), Decimal('155.04140786749483')), (1, Decimal('31.741890959282262'), Decimal('33.0503795721187'), Decimal('16.971014492753625'), Decimal('155.04140786749483')), (1, Decimal('31.741890959282262'), Decimal('33.0503795721187'), Decimal('16.971014492753625'), Decimal('155.04140786749483')), (1, Decimal('41.58673469387755'), Decimal('37.3734693877551'), Decimal('21.585714285714285'), Decimal('188.3877551020408')), (0, Decimal('41.58673469387755'), Decimal('37.3734693877551'), Decimal('21.585714285714285'), Decimal('188.3877551020408')), (0, Decimal('41.58673469387755'), Decimal('37.3734693877551'), Decimal('21.585714285714285'), Decimal('188.3877551020408')), (0, Decimal('41.58673469387755'), Decimal('37.3734693877551'), Decimal('21.585714285714285'), Decimal('188.3877551020408')), (0, Decimal('41.58673469387755'), Decimal('37.3734693877551'), Decimal('21.585714285714285'), Decimal('188.3877551020408')), (0, Decimal('41.58673469387755'), Decimal('37.3734693877551'), Decimal('21.585714285714285'), Decimal('188.3877551020408')), (1, Decimal('41.58673469387755'), Decimal('37.3734693877551'), Decimal('21.585714285714285'), Decimal('188.3877551020408')), (1, Decimal('41.58673469387755'), Decimal('37.3734693877551'), Decimal('21.585714285714285'), Decimal('188.3877551020408')), (1, Decimal('41.58673469387755'), Decimal('37.3734693877551'), Decimal('21.585714285714285'), Decimal('188.3877551020408')), (1, Decimal('41.58673469387755'), Decimal('37.3734693877551'), Decimal('21.585714285714285'), Decimal('188.3877551020408')), (1, Decimal('41.58673469387755'), Decimal('37.3734693877551'), Decimal('21.585714285714285'), Decimal('188.3877551020408')), (1, Decimal('41.58673469387755'), Decimal('37.3734693877551'), Decimal('21.585714285714285'), Decimal('188.3877551020408')), (1, Decimal('37.24616228070175'), Decimal('45.780701754385966'), Decimal('25.27247807017544'), Decimal('172.3766447368421')), (0, Decimal('37.24616228070175'), Decimal('45.780701754385966'), Decimal('25.27247807017544'), Decimal('172.3766447368421')), (0, Decimal('37.24616228070175'), Decimal('45.780701754385966'), Decimal('25.27247807017544'), Decimal('172.3766447368421')), (0, Decimal('37.24616228070175'), Decimal('45.780701754385966'), Decimal('25.27247807017544'), Decimal('172.3766447368421')), (0, Decimal('37.24616228070175'), Decimal('45.780701754385966'), Decimal('25.27247807017544'), Decimal('172.3766447368421')), (0, Decimal('37.24616228070175'), Decimal('45.780701754385966'), Decimal('25.27247807017544'), Decimal('172.3766447368421')), (1, Decimal('37.24616228070175'), Decimal('45.780701754385966'), Decimal('25.27247807017544'), Decimal('172.3766447368421')), (1, Decimal('37.24616228070175'), Decimal('45.780701754385966'), Decimal('25.27247807017544'), Decimal('172.3766447368421')), (0, Decimal('37.24616228070175'), Decimal('45.780701754385966'), Decimal('25.27247807017544'), Decimal('172.3766447368421')), (0, Decimal('37.24616228070175'), Decimal('45.780701754385966'), Decimal('25.27247807017544'), Decimal('172.3766447368421')), (0, Decimal('37.24616228070175'), Decimal('45.780701754385966'), Decimal('25.27247807017544'), Decimal('172.3766447368421')), (1, Decimal('37.24616228070175'), Decimal('45.780701754385966'), Decimal('25.27247807017544'), Decimal('172.3766447368421')), (0, Decimal('32.06666666666667'), Decimal('33.888888888888886'), Decimal('17.955555555555556'), Decimal('124.66666666666667')), (0, Decimal('32.06666666666667'), Decimal('33.888888888888886'), Decimal('17.955555555555556'), Decimal('124.66666666666667')), (0, Decimal('32.06666666666667'), Decimal('33.888888888888886'), Decimal('17.955555555555556'), Decimal('124.66666666666667')), (0, Decimal('32.06666666666667'), Decimal('33.888888888888886'), Decimal('17.955555555555556'), Decimal('124.66666666666667')), (0, Decimal('32.06666666666667'), Decimal('33.888888888888886'), Decimal('17.955555555555556'), Decimal('124.66666666666667')), (0, Decimal('32.06666666666667'), Decimal('33.888888888888886'), Decimal('17.955555555555556'), Decimal('124.66666666666667')), (1, Decimal('32.06666666666667'), Decimal('33.888888888888886'), Decimal('17.955555555555556'), Decimal('124.66666666666667')), (1, Decimal('32.06666666666667'), Decimal('33.888888888888886'), Decimal('17.955555555555556'), Decimal('124.66666666666667')), (1, Decimal('32.06666666666667'), Decimal('33.888888888888886'), Decimal('17.955555555555556'), Decimal('124.66666666666667')), (1, Decimal('32.06666666666667'), Decimal('33.888888888888886'), Decimal('17.955555555555556'), Decimal('124.66666666666667')), (1, Decimal('32.06666666666667'), Decimal('33.888888888888886'), Decimal('17.955555555555556'), Decimal('124.66666666666667')), (1, Decimal('32.06666666666667'), Decimal('33.888888888888886'), Decimal('17.955555555555556'), Decimal('124.66666666666667')), (1, Decimal('33.6578947368421'), Decimal('35.42822966507177'), Decimal('18.181818181818183'), Decimal('165.32296650717703')), (1, Decimal('33.6578947368421'), Decimal('35.42822966507177'), Decimal('18.181818181818183'), Decimal('165.32296650717703')), (0, Decimal('33.6578947368421'), Decimal('35.42822966507177'), Decimal('18.181818181818183'), Decimal('165.32296650717703')), (0, Decimal('33.6578947368421'), Decimal('35.42822966507177'), Decimal('18.181818181818183'), Decimal('165.32296650717703')), (0, Decimal('33.6578947368421'), Decimal('35.42822966507177'), Decimal('18.181818181818183'), Decimal('165.32296650717703')), (0, Decimal('33.6578947368421'), Decimal('35.42822966507177'), Decimal('18.181818181818183'), Decimal('165.32296650717703')), (1, Decimal('33.6578947368421'), Decimal('35.42822966507177'), Decimal('18.181818181818183'), Decimal('165.32296650717703')), (1, Decimal('33.6578947368421'), Decimal('35.42822966507177'), Decimal('18.181818181818183'), Decimal('165.32296650717703')), (1, Decimal('33.6578947368421'), Decimal('35.42822966507177'), Decimal('18.181818181818183'), Decimal('165.32296650717703')), (1, Decimal('33.6578947368421'), Decimal('35.42822966507177'), Decimal('18.181818181818183'), Decimal('165.32296650717703')), (1, Decimal('33.6578947368421'), Decimal('35.42822966507177'), Decimal('18.181818181818183'), Decimal('165.32296650717703')), (1, Decimal('33.6578947368421'), Decimal('35.42822966507177'), Decimal('18.181818181818183'), Decimal('165.32296650717703')), (1, Decimal('30.5'), Decimal('31.901360544217688'), Decimal('18.670068027210885'), Decimal('140.51020408163265')), (0, Decimal('30.5'), Decimal('31.901360544217688'), Decimal('18.670068027210885'), Decimal('140.51020408163265')), (0, Decimal('30.5'), Decimal('31.901360544217688'), Decimal('18.670068027210885'), Decimal('140.51020408163265')), (0, Decimal('30.5'), Decimal('31.901360544217688'), Decimal('18.670068027210885'), Decimal('140.51020408163265')), (0, Decimal('30.5'), Decimal('31.901360544217688'), Decimal('18.670068027210885'), Decimal('140.51020408163265')), (0, Decimal('30.5'), Decimal('31.901360544217688'), Decimal('18.670068027210885'), Decimal('140.51020408163265')), (1, Decimal('30.5'), Decimal('31.901360544217688'), Decimal('18.670068027210885'), Decimal('140.51020408163265')), (1, Decimal('30.5'), Decimal('31.901360544217688'), Decimal('18.670068027210885'), Decimal('140.51020408163265')), (1, Decimal('30.5'), Decimal('31.901360544217688'), Decimal('18.670068027210885'), Decimal('140.51020408163265')), (1, Decimal('30.5'), Decimal('31.901360544217688'), Decimal('18.670068027210885'), Decimal('140.51020408163265')), (1, Decimal('30.5'), Decimal('31.901360544217688'), Decimal('18.670068027210885'), Decimal('140.51020408163265')), (1, Decimal('30.5'), Decimal('31.901360544217688'), Decimal('18.670068027210885'), Decimal('140.51020408163265')), (1, Decimal('30.89236111111111'), Decimal('33.77430555555556'), Decimal('16.645833333333332'), Decimal('170.0')), (1, Decimal('30.89236111111111'), Decimal('33.77430555555556'), Decimal('16.645833333333332'), Decimal('170.0')), (0, Decimal('30.89236111111111'), Decimal('33.77430555555556'), Decimal('16.645833333333332'), Decimal('170.0')), (0, Decimal('30.89236111111111'), Decimal('33.77430555555556'), Decimal('16.645833333333332'), Decimal('170.0')), (0, Decimal('30.89236111111111'), Decimal('33.77430555555556'), Decimal('16.645833333333332'), Decimal('170.0')), (0, Decimal('30.89236111111111'), Decimal('33.77430555555556'), Decimal('16.645833333333332'), Decimal('170.0')), (0, Decimal('30.89236111111111'), Decimal('33.77430555555556'), Decimal('16.645833333333332'), Decimal('170.0')), (1, Decimal('30.89236111111111'), Decimal('33.77430555555556'), Decimal('16.645833333333332'), Decimal('170.0')), (1, Decimal('30.89236111111111'), Decimal('33.77430555555556'), Decimal('16.645833333333332'), Decimal('170.0')), (1, Decimal('30.89236111111111'), Decimal('33.77430555555556'), Decimal('16.645833333333332'), Decimal('170.0')), (1, Decimal('30.89236111111111'), Decimal('33.77430555555556'), Decimal('16.645833333333332'), Decimal('170.0')), (1, Decimal('30.89236111111111'), Decimal('33.77430555555556'), Decimal('16.645833333333332'), Decimal('170.0')), (1, Decimal('42.53333333333333'), Decimal('45.12083333333333'), Decimal('27.8875'), Decimal('200.28125')), (0, Decimal('42.53333333333333'), Decimal('45.12083333333333'), Decimal('27.8875'), Decimal('200.28125')), (0, Decimal('42.53333333333333'), Decimal('45.12083333333333'), Decimal('27.8875'), Decimal('200.28125')), (0, Decimal('42.53333333333333'), Decimal('45.12083333333333'), Decimal('27.8875'), Decimal('200.28125')), (0, Decimal('42.53333333333333'), Decimal('45.12083333333333'), Decimal('27.8875'), Decimal('200.28125')), (0, Decimal('42.53333333333333'), Decimal('45.12083333333333'), Decimal('27.8875'), Decimal('200.28125')), (1, Decimal('42.53333333333333'), Decimal('45.12083333333333'), Decimal('27.8875'), Decimal('200.28125')), (1, Decimal('42.53333333333333'), Decimal('45.12083333333333'), Decimal('27.8875'), Decimal('200.28125')), (1, Decimal('42.53333333333333'), Decimal('45.12083333333333'), Decimal('27.8875'), Decimal('200.28125')), (1, Decimal('42.53333333333333'), Decimal('45.12083333333333'), Decimal('27.8875'), Decimal('200.28125')), (1, Decimal('42.53333333333333'), Decimal('45.12083333333333'), Decimal('27.8875'), Decimal('200.28125')), (1, Decimal('42.53333333333333'), Decimal('45.12083333333333'), Decimal('27.8875'), Decimal('200.28125')), (1, Decimal('40.695238095238096'), Decimal('37.83174603174603'), Decimal('20.16190476190476'), Decimal('212.9047619047619')), (0, Decimal('40.695238095238096'), Decimal('37.83174603174603'), Decimal('20.16190476190476'), Decimal('212.9047619047619')), (0, Decimal('40.695238095238096'), Decimal('37.83174603174603'), Decimal('20.16190476190476'), Decimal('212.9047619047619')), (0, Decimal('40.695238095238096'), Decimal('37.83174603174603'), Decimal('20.16190476190476'), Decimal('212.9047619047619')), (0, Decimal('40.695238095238096'), Decimal('37.83174603174603'), Decimal('20.16190476190476'), Decimal('212.9047619047619')), (0, Decimal('40.695238095238096'), Decimal('37.83174603174603'), Decimal('20.16190476190476'), Decimal('212.9047619047619')), (1, Decimal('40.695238095238096'), Decimal('37.83174603174603'), Decimal('20.16190476190476'), Decimal('212.9047619047619')), (1, Decimal('40.695238095238096'), Decimal('37.83174603174603'), Decimal('20.16190476190476'), Decimal('212.9047619047619')), (1, Decimal('40.695238095238096'), Decimal('37.83174603174603'), Decimal('20.16190476190476'), Decimal('212.9047619047619')), (1, Decimal('40.695238095238096'), Decimal('37.83174603174603'), Decimal('20.16190476190476'), Decimal('212.9047619047619')), (1, Decimal('40.695238095238096'), Decimal('37.83174603174603'), Decimal('20.16190476190476'), Decimal('212.9047619047619')), (1, Decimal('40.695238095238096'), Decimal('37.83174603174603'), Decimal('20.16190476190476'), Decimal('212.9047619047619')), (1, Decimal('30.566666666666666'), Decimal('29.181818181818183'), Decimal('16.772727272727273'), Decimal('142.1818181818182')), (0, Decimal('30.566666666666666'), Decimal('29.181818181818183'), Decimal('16.772727272727273'), Decimal('142.1818181818182')), (0, Decimal('30.566666666666666'), Decimal('29.181818181818183'), Decimal('16.772727272727273'), Decimal('142.1818181818182')), (0, Decimal('30.566666666666666'), Decimal('29.181818181818183'), Decimal('16.772727272727273'), Decimal('142.1818181818182')), (0, Decimal('30.566666666666666'), Decimal('29.181818181818183'), Decimal('16.772727272727273'), Decimal('142.1818181818182')), (0, Decimal('30.566666666666666'), Decimal('29.181818181818183'), Decimal('16.772727272727273'), Decimal('142.1818181818182')), (1, Decimal('30.566666666666666'), Decimal('29.181818181818183'), Decimal('16.772727272727273'), Decimal('142.1818181818182')), (1, Decimal('30.566666666666666'), Decimal('29.181818181818183'), Decimal('16.772727272727273'), Decimal('142.1818181818182')), (1, Decimal('30.566666666666666'), Decimal('29.181818181818183'), Decimal('16.772727272727273'), Decimal('142.1818181818182')), (1, Decimal('30.566666666666666'), Decimal('29.181818181818183'), Decimal('16.772727272727273'), Decimal('142.1818181818182')), (1, Decimal('30.566666666666666'), Decimal('29.181818181818183'), Decimal('16.772727272727273'), Decimal('142.1818181818182')), (1, Decimal('30.566666666666666'), Decimal('29.181818181818183'), Decimal('16.772727272727273'), Decimal('142.1818181818182')), (1, Decimal('27.56547619047619'), Decimal('23.601190476190474'), Decimal('13.422619047619047'), Decimal('127.5')), (1, Decimal('27.56547619047619'), Decimal('23.601190476190474'), Decimal('13.422619047619047'), Decimal('127.5')), (0, Decimal('27.56547619047619'), Decimal('23.601190476190474'), Decimal('13.422619047619047'), Decimal('127.5')), (0, Decimal('27.56547619047619'), Decimal('23.601190476190474'), Decimal('13.422619047619047'), Decimal('127.5')), (0, Decimal('27.56547619047619'), Decimal('23.601190476190474'), Decimal('13.422619047619047'), Decimal('127.5')), (0, Decimal('27.56547619047619'), Decimal('23.601190476190474'), Decimal('13.422619047619047'), Decimal('127.5')), (1, Decimal('27.56547619047619'), Decimal('23.601190476190474'), Decimal('13.422619047619047'), Decimal('127.5')), (1, Decimal('27.56547619047619'), Decimal('23.601190476190474'), Decimal('13.422619047619047'), Decimal('127.5')), (1, Decimal('27.56547619047619'), Decimal('23.601190476190474'), Decimal('13.422619047619047'), Decimal('127.5')), (1, Decimal('27.56547619047619'), Decimal('23.601190476190474'), Decimal('13.422619047619047'), Decimal('127.5')), (1, Decimal('27.56547619047619'), Decimal('23.601190476190474'), Decimal('13.422619047619047'), Decimal('127.5')), (1, Decimal('27.56547619047619'), Decimal('23.601190476190474'), Decimal('13.422619047619047'), Decimal('127.5')), (1, Decimal('33.333333333333336'), Decimal('33.4'), Decimal('20.266666666666666'), Decimal('136.0')), (0, Decimal('33.333333333333336'), Decimal('33.4'), Decimal('20.266666666666666'), Decimal('136.0')), (0, Decimal('33.333333333333336'), Decimal('33.4'), Decimal('20.266666666666666'), Decimal('136.0')), (0, Decimal('33.333333333333336'), Decimal('33.4'), Decimal('20.266666666666666'), Decimal('136.0')), (0, Decimal('33.333333333333336'), Decimal('33.4'), Decimal('20.266666666666666'), Decimal('136.0')), (0, Decimal('33.333333333333336'), Decimal('33.4'), Decimal('20.266666666666666'), Decimal('136.0')), (1, Decimal('33.333333333333336'), Decimal('33.4'), Decimal('20.266666666666666'), Decimal('136.0')), (1, Decimal('33.333333333333336'), Decimal('33.4'), Decimal('20.266666666666666'), Decimal('136.0')), (1, Decimal('33.333333333333336'), Decimal('33.4'), Decimal('20.266666666666666'), Decimal('136.0')), (1, Decimal('33.333333333333336'), Decimal('33.4'), Decimal('20.266666666666666'), Decimal('136.0')), (1, Decimal('33.333333333333336'), Decimal('33.4'), Decimal('20.266666666666666'), Decimal('136.0')), (1, Decimal('33.333333333333336'), Decimal('33.4'), Decimal('20.266666666666666'), Decimal('136.0')), (1, Decimal('20.014814814814816'), Decimal('20.91759259259259'), Decimal('10.812962962962963'), Decimal('102.94444444444444')), (1, Decimal('20.014814814814816'), Decimal('20.91759259259259'), Decimal('10.812962962962963'), Decimal('102.94444444444444')), (0, Decimal('20.014814814814816'), Decimal('20.91759259259259'), Decimal('10.812962962962963'), Decimal('102.94444444444444')), (0, Decimal('20.014814814814816'), Decimal('20.91759259259259'), Decimal('10.812962962962963'), Decimal('102.94444444444444')), (0, Decimal('20.014814814814816'), Decimal('20.91759259259259'), Decimal('10.812962962962963'), Decimal('102.94444444444444')), (0, Decimal('20.014814814814816'), Decimal('20.91759259259259'), Decimal('10.812962962962963'), Decimal('102.94444444444444')), (1, Decimal('20.014814814814816'), Decimal('20.91759259259259'), Decimal('10.812962962962963'), Decimal('102.94444444444444')), (1, Decimal('20.014814814814816'), Decimal('20.91759259259259'), Decimal('10.812962962962963'), Decimal('102.94444444444444')), (1, Decimal('20.014814814814816'), Decimal('20.91759259259259'), Decimal('10.812962962962963'), Decimal('102.94444444444444')), (1, Decimal('20.014814814814816'), Decimal('20.91759259259259'), Decimal('10.812962962962963'), Decimal('102.94444444444444')), (1, Decimal('20.014814814814816'), Decimal('20.91759259259259'), Decimal('10.812962962962963'), Decimal('102.94444444444444')), (1, Decimal('20.014814814814816'), Decimal('20.91759259259259'), Decimal('10.812962962962963'), Decimal('102.94444444444444')), (1, Decimal('34.125237191650854'), Decimal('39.62049335863377'), Decimal('20.555977229601517'), Decimal('177.58064516129033')), (0, Decimal('34.125237191650854'), Decimal('39.62049335863377'), Decimal('20.555977229601517'), Decimal('177.58064516129033')), (0, Decimal('34.125237191650854'), Decimal('39.62049335863377'), Decimal('20.555977229601517'), Decimal('177.58064516129033')), (0, Decimal('34.125237191650854'), Decimal('39.62049335863377'), Decimal('20.555977229601517'), Decimal('177.58064516129033')), (0, Decimal('34.125237191650854'), Decimal('39.62049335863377'), Decimal('20.555977229601517'), Decimal('177.58064516129033')), (0, Decimal('34.125237191650854'), Decimal('39.62049335863377'), Decimal('20.555977229601517'), Decimal('177.58064516129033')), (1, Decimal('34.125237191650854'), Decimal('39.62049335863377'), Decimal('20.555977229601517'), Decimal('177.58064516129033')), (1, Decimal('34.125237191650854'), Decimal('39.62049335863377'), Decimal('20.555977229601517'), Decimal('177.58064516129033')), (1, Decimal('34.125237191650854'), Decimal('39.62049335863377'), Decimal('20.555977229601517'), Decimal('177.58064516129033')), (1, Decimal('34.125237191650854'), Decimal('39.62049335863377'), Decimal('20.555977229601517'), Decimal('177.58064516129033')), (1, Decimal('34.125237191650854'), Decimal('39.62049335863377'), Decimal('20.555977229601517'), Decimal('177.58064516129033')), (1, Decimal('34.125237191650854'), Decimal('39.62049335863377'), Decimal('20.555977229601517'), Decimal('177.58064516129033')), (1, Decimal('31.022439820481438'), Decimal('36.667074663402694'), Decimal('16.88657690738474'), Decimal('184.25336597307222')), (1, Decimal('31.022439820481438'), Decimal('36.667074663402694'), Decimal('16.88657690738474'), Decimal('184.25336597307222')), (0, Decimal('31.022439820481438'), Decimal('36.667074663402694'), Decimal('16.88657690738474'), Decimal('184.25336597307222')), (0, Decimal('31.022439820481438'), Decimal('36.667074663402694'), Decimal('16.88657690738474'), Decimal('184.25336597307222')), (0, Decimal('31.022439820481438'), Decimal('36.667074663402694'), Decimal('16.88657690738474'), Decimal('184.25336597307222')), (0, Decimal('31.022439820481438'), Decimal('36.667074663402694'), Decimal('16.88657690738474'), Decimal('184.25336597307222')), (1, Decimal('31.022439820481438'), Decimal('36.667074663402694'), Decimal('16.88657690738474'), Decimal('184.25336597307222')), (1, Decimal('31.022439820481438'), Decimal('36.667074663402694'), Decimal('16.88657690738474'), Decimal('184.25336597307222')), (1, Decimal('31.022439820481438'), Decimal('36.667074663402694'), Decimal('16.88657690738474'), Decimal('184.25336597307222')), (1, Decimal('31.022439820481438'), Decimal('36.667074663402694'), Decimal('16.88657690738474'), Decimal('184.25336597307222')), (1, Decimal('31.022439820481438'), Decimal('36.667074663402694'), Decimal('16.88657690738474'), Decimal('184.25336597307222')), (1, Decimal('31.022439820481438'), Decimal('36.667074663402694'), Decimal('16.88657690738474'), Decimal('184.25336597307222'))]\n"
     ]
    }
   ],
   "source": [
    "query = \"select crop_presence, red, green, blue, nir from pilot.cropping_presence_dagdagad as c join pilot.cropping_pattern_dagdagad as p on c.gid = p.gid;\"\n",
    "with pgconn.cursor() as curs:\n",
    "    curs.execute(query)\n",
    "    rows = curs.fetchall()\n",
    "\n",
    "print(rows)"
   ]
  },
  {
   "cell_type": "code",
   "execution_count": 54,
   "metadata": {},
   "outputs": [
    {
     "name": "stdout",
     "output_type": "stream",
     "text": [
      "240\n",
      "              precision    recall  f1-score   support\n",
      "\n",
      "           0       0.00      0.00      0.00        20\n",
      "           1       0.58      1.00      0.74        28\n",
      "\n",
      "    accuracy                           0.58        48\n",
      "   macro avg       0.29      0.50      0.37        48\n",
      "weighted avg       0.34      0.58      0.43        48\n",
      "\n",
      "[[ 0 20]\n",
      " [ 0 28]]\n"
     ]
    },
    {
     "name": "stderr",
     "output_type": "stream",
     "text": [
      "/home/sameer/.local/lib/python3.10/site-packages/sklearn/metrics/_classification.py:1469: UndefinedMetricWarning: Precision and F-score are ill-defined and being set to 0.0 in labels with no predicted samples. Use `zero_division` parameter to control this behavior.\n",
      "  _warn_prf(average, modifier, msg_start, len(result))\n",
      "/home/sameer/.local/lib/python3.10/site-packages/sklearn/metrics/_classification.py:1469: UndefinedMetricWarning: Precision and F-score are ill-defined and being set to 0.0 in labels with no predicted samples. Use `zero_division` parameter to control this behavior.\n",
      "  _warn_prf(average, modifier, msg_start, len(result))\n",
      "/home/sameer/.local/lib/python3.10/site-packages/sklearn/metrics/_classification.py:1469: UndefinedMetricWarning: Precision and F-score are ill-defined and being set to 0.0 in labels with no predicted samples. Use `zero_division` parameter to control this behavior.\n",
      "  _warn_prf(average, modifier, msg_start, len(result))\n"
     ]
    }
   ],
   "source": [
    "X = [[float(band) for band in item[1:5]] for item in rows]\n",
    "for i in range(len(X)):\n",
    "    rgbn = X[i]\n",
    "    X[i].append((rgbn[3] - rgbn[0])/(rgbn[3] + rgbn[0]))\n",
    "\n",
    "X = [[item[-1]] for item in X]\n",
    "Y = [item[0] for item in rows]\n",
    "\n",
    "print(len(X))\n",
    "\n",
    "X_train, X_test, Y_train, Y_test = train_test_split(X, Y, test_size=0.2, random_state=8)\n",
    "\n",
    "model = LogisticRegression()\n",
    "model.fit(X_train, Y_train)\n",
    "\n",
    "predictions = model.predict(X_test)\n",
    "print(classification_report(Y_test, predictions))\n",
    "print(confusion_matrix(Y_test, predictions))\n",
    "\n",
    "pgconn.commit()"
   ]
  }
 ],
 "metadata": {
  "kernelspec": {
   "display_name": "Python 3",
   "language": "python",
   "name": "python3"
  },
  "language_info": {
   "codemirror_mode": {
    "name": "ipython",
    "version": 3
   },
   "file_extension": ".py",
   "mimetype": "text/x-python",
   "name": "python",
   "nbconvert_exporter": "python",
   "pygments_lexer": "ipython3",
   "version": "3.10.12"
  }
 },
 "nbformat": 4,
 "nbformat_minor": 2
}
